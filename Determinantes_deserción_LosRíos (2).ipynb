{
 "cells": [
  {
   "cell_type": "code",
   "execution_count": 1,
   "id": "8a029bd9-bc7b-4c9a-bfce-8d0b34ca2f5a",
   "metadata": {},
   "outputs": [],
   "source": [
    "import pandas as pd\n",
    "import numpy as np\n",
    "import statsmodels.api as sm\n",
    "import statsmodels.formula.api as smf\n",
    "from sklearn.preprocessing import StandardScaler\n",
    "from sklearn.linear_model import LogisticRegression\n",
    "from sklearn.metrics import classification_report, confusion_matrix\n",
    "\n",
    "df = pd.read_csv(\n",
    "    \"C:/Users/Home/Desktop/Respaldo Babahoyo/Lecturas para Investigaciones/BDDenemdu_personas_2024_anual.csv\",\n",
    "    sep=\";\",\n",
    "    low_memory=False\n",
    ")\n"
   ]
  },
  {
   "cell_type": "code",
   "execution_count": 2,
   "id": "4ac5d897-7415-4c67-8f00-a03e0deaae98",
   "metadata": {},
   "outputs": [
    {
     "data": {
      "text/html": [
       "<div>\n",
       "<style scoped>\n",
       "    .dataframe tbody tr th:only-of-type {\n",
       "        vertical-align: middle;\n",
       "    }\n",
       "\n",
       "    .dataframe tbody tr th {\n",
       "        vertical-align: top;\n",
       "    }\n",
       "\n",
       "    .dataframe thead th {\n",
       "        text-align: right;\n",
       "    }\n",
       "</style>\n",
       "<table border=\"1\" class=\"dataframe\">\n",
       "  <thead>\n",
       "    <tr style=\"text-align: right;\">\n",
       "      <th></th>\n",
       "      <th>area</th>\n",
       "      <th>ciudad</th>\n",
       "      <th>conglomerado</th>\n",
       "      <th>panelm</th>\n",
       "      <th>vivienda</th>\n",
       "      <th>hogar</th>\n",
       "      <th>p01</th>\n",
       "      <th>p02</th>\n",
       "      <th>p03</th>\n",
       "      <th>p04</th>\n",
       "      <th>...</th>\n",
       "      <th>prov</th>\n",
       "      <th>dominio</th>\n",
       "      <th>pobreza</th>\n",
       "      <th>epobreza</th>\n",
       "      <th>upm</th>\n",
       "      <th>id_vivienda</th>\n",
       "      <th>id_hogar</th>\n",
       "      <th>id_persona</th>\n",
       "      <th>periodo</th>\n",
       "      <th>mes</th>\n",
       "    </tr>\n",
       "  </thead>\n",
       "  <tbody>\n",
       "    <tr>\n",
       "      <th>0</th>\n",
       "      <td>1</td>\n",
       "      <td>10150</td>\n",
       "      <td>304</td>\n",
       "      <td>42</td>\n",
       "      <td>1</td>\n",
       "      <td>1</td>\n",
       "      <td>1</td>\n",
       "      <td>1</td>\n",
       "      <td>31</td>\n",
       "      <td>1</td>\n",
       "      <td>...</td>\n",
       "      <td>1</td>\n",
       "      <td>3</td>\n",
       "      <td>0</td>\n",
       "      <td>0</td>\n",
       "      <td>10150000304</td>\n",
       "      <td>101500003040420103</td>\n",
       "      <td>01015000030404201103</td>\n",
       "      <td>0101500003040420110103</td>\n",
       "      <td>202403</td>\n",
       "      <td>3</td>\n",
       "    </tr>\n",
       "    <tr>\n",
       "      <th>1</th>\n",
       "      <td>1</td>\n",
       "      <td>10150</td>\n",
       "      <td>304</td>\n",
       "      <td>42</td>\n",
       "      <td>1</td>\n",
       "      <td>1</td>\n",
       "      <td>2</td>\n",
       "      <td>2</td>\n",
       "      <td>39</td>\n",
       "      <td>2</td>\n",
       "      <td>...</td>\n",
       "      <td>1</td>\n",
       "      <td>3</td>\n",
       "      <td>0</td>\n",
       "      <td>0</td>\n",
       "      <td>10150000304</td>\n",
       "      <td>101500003040420103</td>\n",
       "      <td>01015000030404201103</td>\n",
       "      <td>0101500003040420110203</td>\n",
       "      <td>202403</td>\n",
       "      <td>3</td>\n",
       "    </tr>\n",
       "    <tr>\n",
       "      <th>2</th>\n",
       "      <td>1</td>\n",
       "      <td>10150</td>\n",
       "      <td>304</td>\n",
       "      <td>42</td>\n",
       "      <td>1</td>\n",
       "      <td>1</td>\n",
       "      <td>3</td>\n",
       "      <td>1</td>\n",
       "      <td>7</td>\n",
       "      <td>7</td>\n",
       "      <td>...</td>\n",
       "      <td>1</td>\n",
       "      <td>3</td>\n",
       "      <td>0</td>\n",
       "      <td>0</td>\n",
       "      <td>10150000304</td>\n",
       "      <td>101500003040420103</td>\n",
       "      <td>01015000030404201103</td>\n",
       "      <td>0101500003040420110303</td>\n",
       "      <td>202403</td>\n",
       "      <td>3</td>\n",
       "    </tr>\n",
       "    <tr>\n",
       "      <th>3</th>\n",
       "      <td>1</td>\n",
       "      <td>10150</td>\n",
       "      <td>304</td>\n",
       "      <td>42</td>\n",
       "      <td>1</td>\n",
       "      <td>1</td>\n",
       "      <td>4</td>\n",
       "      <td>1</td>\n",
       "      <td>1</td>\n",
       "      <td>3</td>\n",
       "      <td>...</td>\n",
       "      <td>1</td>\n",
       "      <td>3</td>\n",
       "      <td>0</td>\n",
       "      <td>0</td>\n",
       "      <td>10150000304</td>\n",
       "      <td>101500003040420103</td>\n",
       "      <td>01015000030404201103</td>\n",
       "      <td>0101500003040420110403</td>\n",
       "      <td>202403</td>\n",
       "      <td>3</td>\n",
       "    </tr>\n",
       "    <tr>\n",
       "      <th>4</th>\n",
       "      <td>1</td>\n",
       "      <td>10150</td>\n",
       "      <td>304</td>\n",
       "      <td>42</td>\n",
       "      <td>1</td>\n",
       "      <td>1</td>\n",
       "      <td>1</td>\n",
       "      <td>1</td>\n",
       "      <td>31</td>\n",
       "      <td>1</td>\n",
       "      <td>...</td>\n",
       "      <td>1</td>\n",
       "      <td>3</td>\n",
       "      <td>0</td>\n",
       "      <td>0</td>\n",
       "      <td>10150000304</td>\n",
       "      <td>101500003040420106</td>\n",
       "      <td>01015000030404201106</td>\n",
       "      <td>0101500003040420110106</td>\n",
       "      <td>202406</td>\n",
       "      <td>6</td>\n",
       "    </tr>\n",
       "    <tr>\n",
       "      <th>...</th>\n",
       "      <td>...</td>\n",
       "      <td>...</td>\n",
       "      <td>...</td>\n",
       "      <td>...</td>\n",
       "      <td>...</td>\n",
       "      <td>...</td>\n",
       "      <td>...</td>\n",
       "      <td>...</td>\n",
       "      <td>...</td>\n",
       "      <td>...</td>\n",
       "      <td>...</td>\n",
       "      <td>...</td>\n",
       "      <td>...</td>\n",
       "      <td>...</td>\n",
       "      <td>...</td>\n",
       "      <td>...</td>\n",
       "      <td>...</td>\n",
       "      <td>...</td>\n",
       "      <td>...</td>\n",
       "      <td>...</td>\n",
       "      <td>...</td>\n",
       "    </tr>\n",
       "    <tr>\n",
       "      <th>341389</th>\n",
       "      <td>1</td>\n",
       "      <td>240352</td>\n",
       "      <td>3202</td>\n",
       "      <td>43</td>\n",
       "      <td>9</td>\n",
       "      <td>1</td>\n",
       "      <td>2</td>\n",
       "      <td>1</td>\n",
       "      <td>58</td>\n",
       "      <td>2</td>\n",
       "      <td>...</td>\n",
       "      <td>24</td>\n",
       "      <td>6</td>\n",
       "      <td>0</td>\n",
       "      <td>0</td>\n",
       "      <td>240352003202</td>\n",
       "      <td>2403520032020430910</td>\n",
       "      <td>24035200320204309110</td>\n",
       "      <td>2403520032020430910210</td>\n",
       "      <td>202410</td>\n",
       "      <td>10</td>\n",
       "    </tr>\n",
       "    <tr>\n",
       "      <th>341390</th>\n",
       "      <td>1</td>\n",
       "      <td>240352</td>\n",
       "      <td>3202</td>\n",
       "      <td>43</td>\n",
       "      <td>9</td>\n",
       "      <td>1</td>\n",
       "      <td>3</td>\n",
       "      <td>2</td>\n",
       "      <td>23</td>\n",
       "      <td>3</td>\n",
       "      <td>...</td>\n",
       "      <td>24</td>\n",
       "      <td>6</td>\n",
       "      <td>0</td>\n",
       "      <td>0</td>\n",
       "      <td>240352003202</td>\n",
       "      <td>2403520032020430910</td>\n",
       "      <td>24035200320204309110</td>\n",
       "      <td>2403520032020430910310</td>\n",
       "      <td>202410</td>\n",
       "      <td>10</td>\n",
       "    </tr>\n",
       "    <tr>\n",
       "      <th>341391</th>\n",
       "      <td>1</td>\n",
       "      <td>240352</td>\n",
       "      <td>3202</td>\n",
       "      <td>43</td>\n",
       "      <td>9</td>\n",
       "      <td>1</td>\n",
       "      <td>4</td>\n",
       "      <td>2</td>\n",
       "      <td>18</td>\n",
       "      <td>3</td>\n",
       "      <td>...</td>\n",
       "      <td>24</td>\n",
       "      <td>6</td>\n",
       "      <td>0</td>\n",
       "      <td>0</td>\n",
       "      <td>240352003202</td>\n",
       "      <td>2403520032020430910</td>\n",
       "      <td>24035200320204309110</td>\n",
       "      <td>2403520032020430910410</td>\n",
       "      <td>202410</td>\n",
       "      <td>10</td>\n",
       "    </tr>\n",
       "    <tr>\n",
       "      <th>341392</th>\n",
       "      <td>1</td>\n",
       "      <td>240352</td>\n",
       "      <td>3202</td>\n",
       "      <td>43</td>\n",
       "      <td>9</td>\n",
       "      <td>1</td>\n",
       "      <td>5</td>\n",
       "      <td>1</td>\n",
       "      <td>14</td>\n",
       "      <td>7</td>\n",
       "      <td>...</td>\n",
       "      <td>24</td>\n",
       "      <td>6</td>\n",
       "      <td>0</td>\n",
       "      <td>0</td>\n",
       "      <td>240352003202</td>\n",
       "      <td>2403520032020430910</td>\n",
       "      <td>24035200320204309110</td>\n",
       "      <td>2403520032020430910510</td>\n",
       "      <td>202410</td>\n",
       "      <td>10</td>\n",
       "    </tr>\n",
       "    <tr>\n",
       "      <th>341393</th>\n",
       "      <td>1</td>\n",
       "      <td>240352</td>\n",
       "      <td>3202</td>\n",
       "      <td>43</td>\n",
       "      <td>9</td>\n",
       "      <td>1</td>\n",
       "      <td>6</td>\n",
       "      <td>2</td>\n",
       "      <td>8</td>\n",
       "      <td>7</td>\n",
       "      <td>...</td>\n",
       "      <td>24</td>\n",
       "      <td>6</td>\n",
       "      <td>0</td>\n",
       "      <td>0</td>\n",
       "      <td>240352003202</td>\n",
       "      <td>2403520032020430910</td>\n",
       "      <td>24035200320204309110</td>\n",
       "      <td>2403520032020430910610</td>\n",
       "      <td>202410</td>\n",
       "      <td>10</td>\n",
       "    </tr>\n",
       "  </tbody>\n",
       "</table>\n",
       "<p>341394 rows × 139 columns</p>\n",
       "</div>"
      ],
      "text/plain": [
       "        area  ciudad  conglomerado  panelm  vivienda  hogar  p01  p02  p03  \\\n",
       "0          1   10150           304      42         1      1    1    1   31   \n",
       "1          1   10150           304      42         1      1    2    2   39   \n",
       "2          1   10150           304      42         1      1    3    1    7   \n",
       "3          1   10150           304      42         1      1    4    1    1   \n",
       "4          1   10150           304      42         1      1    1    1   31   \n",
       "...      ...     ...           ...     ...       ...    ...  ...  ...  ...   \n",
       "341389     1  240352          3202      43         9      1    2    1   58   \n",
       "341390     1  240352          3202      43         9      1    3    2   23   \n",
       "341391     1  240352          3202      43         9      1    4    2   18   \n",
       "341392     1  240352          3202      43         9      1    5    1   14   \n",
       "341393     1  240352          3202      43         9      1    6    2    8   \n",
       "\n",
       "        p04  ...  prov  dominio pobreza epobreza           upm  \\\n",
       "0         1  ...     1        3       0        0   10150000304   \n",
       "1         2  ...     1        3       0        0   10150000304   \n",
       "2         7  ...     1        3       0        0   10150000304   \n",
       "3         3  ...     1        3       0        0   10150000304   \n",
       "4         1  ...     1        3       0        0   10150000304   \n",
       "...     ...  ...   ...      ...     ...      ...           ...   \n",
       "341389    2  ...    24        6       0        0  240352003202   \n",
       "341390    3  ...    24        6       0        0  240352003202   \n",
       "341391    3  ...    24        6       0        0  240352003202   \n",
       "341392    7  ...    24        6       0        0  240352003202   \n",
       "341393    7  ...    24        6       0        0  240352003202   \n",
       "\n",
       "                id_vivienda              id_hogar              id_persona  \\\n",
       "0        101500003040420103  01015000030404201103  0101500003040420110103   \n",
       "1        101500003040420103  01015000030404201103  0101500003040420110203   \n",
       "2        101500003040420103  01015000030404201103  0101500003040420110303   \n",
       "3        101500003040420103  01015000030404201103  0101500003040420110403   \n",
       "4        101500003040420106  01015000030404201106  0101500003040420110106   \n",
       "...                     ...                   ...                     ...   \n",
       "341389  2403520032020430910  24035200320204309110  2403520032020430910210   \n",
       "341390  2403520032020430910  24035200320204309110  2403520032020430910310   \n",
       "341391  2403520032020430910  24035200320204309110  2403520032020430910410   \n",
       "341392  2403520032020430910  24035200320204309110  2403520032020430910510   \n",
       "341393  2403520032020430910  24035200320204309110  2403520032020430910610   \n",
       "\n",
       "       periodo mes  \n",
       "0       202403   3  \n",
       "1       202403   3  \n",
       "2       202403   3  \n",
       "3       202403   3  \n",
       "4       202406   6  \n",
       "...        ...  ..  \n",
       "341389  202410  10  \n",
       "341390  202410  10  \n",
       "341391  202410  10  \n",
       "341392  202410  10  \n",
       "341393  202410  10  \n",
       "\n",
       "[341394 rows x 139 columns]"
      ]
     },
     "execution_count": 2,
     "metadata": {},
     "output_type": "execute_result"
    }
   ],
   "source": [
    "df\n"
   ]
  },
  {
   "cell_type": "code",
   "execution_count": 5,
   "id": "0bd76e02-1429-440c-839b-e5bab11c91fc",
   "metadata": {},
   "outputs": [
    {
     "name": "stdout",
     "output_type": "stream",
     "text": [
      "(6479, 139)\n"
     ]
    }
   ],
   "source": [
    "# Lista de códigos de ciudad del Censo ENEMDU para la provincia de Los Ríos\n",
    "codigos_los_rios = [\n",
    "    120150, 120152, 120153, 120154, 120155,  # Babahoyo\n",
    "    120250, 120251, 120252,                 # Baba\n",
    "    120350,                                 # Montalvo\n",
    "    120450, 120451, 120452,                 # Puebloviejo\n",
    "    120550, 120553, 120555,                 # Quevedo\n",
    "    120650, 120651,                         # Urdaneta\n",
    "    120750, 120752,                         # Ventanas\n",
    "    120850, 120851,                         # Vinces\n",
    "    120950,                                 # Palenque\n",
    "    121050, 121051,                         # Buena Fe\n",
    "    121150,                                 # Valencia\n",
    "    121250,                                 # Mocache\n",
    "    121350                                  # Quinsaloma\n",
    "]\n",
    "\n",
    "# Filtrar solo los registros correspondientes a esas ciudades\n",
    "df_rios = df[df['ciudad'].isin(codigos_los_rios)]\n",
    "\n",
    "# Verificar dimensiones del nuevo DataFrame\n",
    "print(df_rios.shape)"
   ]
  },
  {
   "cell_type": "code",
   "execution_count": 7,
   "id": "bcae5017-d683-49af-94ad-648408861685",
   "metadata": {},
   "outputs": [
    {
     "name": "stdout",
     "output_type": "stream",
     "text": [
      "[120150 120152 120153 120154 120155 120250 120251 120252 120350 120450\n",
      " 120451 120452 120550 120651 120750 120752 120850 120851 120950 121050\n",
      " 121051 121150 121250 121350]\n",
      "int64\n"
     ]
    }
   ],
   "source": [
    "print(df_rios['ciudad'].unique())\n",
    "print(df_rios['ciudad'].dtype)"
   ]
  },
  {
   "cell_type": "code",
   "execution_count": 9,
   "id": "b5c7e8a7-7f0d-4448-b34f-2250efb2bdbc",
   "metadata": {},
   "outputs": [],
   "source": [
    "# Filtrar población objetivo: personas entre 5 y 17 años con info educativa\n",
    "df_menores = df_rios[(df_rios['p03'] >= 5) & (df_rios['p03'] <= 17)].copy()\n",
    "\n"
   ]
  },
  {
   "cell_type": "code",
   "execution_count": 15,
   "id": "60d06307-b6de-42dc-bc5b-6a26b06df185",
   "metadata": {},
   "outputs": [],
   "source": [
    "df_menores['p07'] = df_menores['p07'].replace({1: 1, 2: 0}).astype(\"Int64\")\n",
    "\n"
   ]
  },
  {
   "cell_type": "code",
   "execution_count": 17,
   "id": "cfac8b25-2141-4324-9a25-c273c049280a",
   "metadata": {},
   "outputs": [
    {
     "name": "stdout",
     "output_type": "stream",
     "text": [
      "p07\n",
      "1    1269\n",
      "0     112\n",
      "Name: count, dtype: Int64\n"
     ]
    }
   ],
   "source": [
    "print(df_menores['p07'].value_counts())\n"
   ]
  },
  {
   "cell_type": "code",
   "execution_count": 23,
   "id": "74051ae3-d545-489f-bc44-cca385e5be71",
   "metadata": {},
   "outputs": [],
   "source": [
    "df_menores['p20'] = df_menores['p20'].replace({1: 1, 2: 0}).astype(\"Int64\")\n"
   ]
  },
  {
   "cell_type": "code",
   "execution_count": 25,
   "id": "a19b24d6-fc92-49a6-8f69-29a432509d8e",
   "metadata": {},
   "outputs": [
    {
     "name": "stdout",
     "output_type": "stream",
     "text": [
      "p20\n",
      "0    1348\n",
      "1      33\n",
      "Name: count, dtype: Int64\n"
     ]
    }
   ],
   "source": [
    "print(df_menores['p20'].value_counts())"
   ]
  },
  {
   "cell_type": "code",
   "execution_count": 27,
   "id": "d3b99246-adf0-4a7e-b137-cc5e7a8c4b87",
   "metadata": {},
   "outputs": [],
   "source": [
    "df_menores['area'] = df_menores['area'].replace({1: 1, 2: 0}).astype(\"Int64\")\n"
   ]
  },
  {
   "cell_type": "code",
   "execution_count": 29,
   "id": "cd0e0eab-aae1-4858-bb20-1bcbe859bfa0",
   "metadata": {},
   "outputs": [
    {
     "name": "stdout",
     "output_type": "stream",
     "text": [
      "area\n",
      "0    698\n",
      "1    683\n",
      "Name: count, dtype: Int64\n"
     ]
    }
   ],
   "source": [
    "print(df_menores['area'].value_counts())\n"
   ]
  },
  {
   "cell_type": "code",
   "execution_count": 31,
   "id": "5f584efe-c932-4071-b4c6-532118c1d773",
   "metadata": {},
   "outputs": [],
   "source": [
    "df_menores['p02'] = df_menores['p02'].replace({1: 0, 2: 1}).astype(\"Int64\")\n"
   ]
  },
  {
   "cell_type": "code",
   "execution_count": 33,
   "id": "9ca22628-0747-4cdc-af2d-51cf6982d410",
   "metadata": {},
   "outputs": [
    {
     "name": "stdout",
     "output_type": "stream",
     "text": [
      "p02\n",
      "0    736\n",
      "1    645\n",
      "Name: count, dtype: Int64\n"
     ]
    }
   ],
   "source": [
    "print(df_menores['p02'].value_counts())\n"
   ]
  },
  {
   "cell_type": "code",
   "execution_count": 35,
   "id": "edd1a4c4-2346-46f2-9d87-747cfd103ba4",
   "metadata": {},
   "outputs": [],
   "source": [
    "df_menores['p04'] = (df_menores['p04'] == 3).astype(\"Int64\")\n"
   ]
  },
  {
   "cell_type": "code",
   "execution_count": 37,
   "id": "a7153503-bc24-40b7-a331-0e635dc63752",
   "metadata": {},
   "outputs": [
    {
     "name": "stdout",
     "output_type": "stream",
     "text": [
      "p04\n",
      "1    949\n",
      "0    432\n",
      "Name: count, dtype: Int64\n"
     ]
    }
   ],
   "source": [
    "print(df_menores['p04'].value_counts())\n"
   ]
  },
  {
   "cell_type": "code",
   "execution_count": 39,
   "id": "3b7304ab-2a40-4090-9dd3-b796729a9db2",
   "metadata": {},
   "outputs": [
    {
     "name": "stdout",
     "output_type": "stream",
     "text": [
      "pobreza\n",
      "0    1012\n",
      "1     365\n",
      "        4\n",
      "Name: count, dtype: int64\n"
     ]
    }
   ],
   "source": [
    "print(df_menores['pobreza'].value_counts())\n"
   ]
  },
  {
   "cell_type": "code",
   "execution_count": 41,
   "id": "6bd7c2d2-d163-40b6-8737-cd2aa0a1ceaa",
   "metadata": {},
   "outputs": [
    {
     "name": "stdout",
     "output_type": "stream",
     "text": [
      "Valores faltantes en X:\n",
      "area        0\n",
      "p02         0\n",
      "p03         0\n",
      "p04         0\n",
      "p20         0\n",
      "pobreza     0\n",
      "epobreza    0\n",
      "dtype: int64\n",
      "\n",
      "Valores faltantes en y:\n",
      "0\n"
     ]
    }
   ],
   "source": [
    "# Definir variables\n",
    "vars_modelo = ['area', 'p02', 'p03', 'p04', 'p20', 'pobreza', 'epobreza']\n",
    "\n",
    "# Crear subconjunto de datos\n",
    "X = df_menores[vars_modelo].copy()\n",
    "y = df_menores['p07']\n",
    "\n",
    "# Revisar valores faltantes\n",
    "print(\"Valores faltantes en X:\")\n",
    "print(X.isnull().sum())\n",
    "\n",
    "print(\"\\nValores faltantes en y:\")\n",
    "print(y.isnull().sum())\n"
   ]
  },
  {
   "cell_type": "code",
   "execution_count": 43,
   "id": "9b205858-168a-4323-89c0-78b56b124b2f",
   "metadata": {},
   "outputs": [
    {
     "name": "stdout",
     "output_type": "stream",
     "text": [
      "area         Int64\n",
      "p02          Int64\n",
      "p03          int64\n",
      "p04          Int64\n",
      "p20          Int64\n",
      "pobreza     object\n",
      "epobreza    object\n",
      "dtype: object\n"
     ]
    }
   ],
   "source": [
    "print(X.dtypes)\n"
   ]
  },
  {
   "cell_type": "code",
   "execution_count": 45,
   "id": "2728620a-d090-409f-9447-3dbc802e01a3",
   "metadata": {},
   "outputs": [
    {
     "name": "stdout",
     "output_type": "stream",
     "text": [
      "area         Int64\n",
      "p02          Int64\n",
      "p03          int64\n",
      "p04          Int64\n",
      "p20          Int64\n",
      "pobreza     object\n",
      "epobreza    object\n",
      "dtype: object\n"
     ]
    }
   ],
   "source": [
    "print(X.dtypes)"
   ]
  },
  {
   "cell_type": "code",
   "execution_count": 47,
   "id": "c529635a-8cd7-4968-8a8f-b0caff2224af",
   "metadata": {},
   "outputs": [],
   "source": [
    "df_menores['pobreza'] = pd.to_numeric(df_menores['pobreza'].replace(r'^\\s*$', pd.NA, regex=True), errors='coerce').astype('Int64')\n",
    "df_menores['epobreza'] = pd.to_numeric(df_menores['epobreza'].replace(r'^\\s*$', pd.NA, regex=True), errors='coerce').astype('Int64')\n"
   ]
  },
  {
   "cell_type": "code",
   "execution_count": 49,
   "id": "47c21f6b-5539-4abd-9655-9c0dc2e24b8a",
   "metadata": {},
   "outputs": [
    {
     "name": "stdout",
     "output_type": "stream",
     "text": [
      "pobreza     Int64\n",
      "epobreza    Int64\n",
      "dtype: object\n"
     ]
    }
   ],
   "source": [
    "print(df_menores[['pobreza', 'epobreza']].dtypes)"
   ]
  },
  {
   "cell_type": "code",
   "execution_count": 51,
   "id": "84a67621-4246-4e01-9ff9-e9dd4f3862b1",
   "metadata": {},
   "outputs": [
    {
     "name": "stdout",
     "output_type": "stream",
     "text": [
      "pobreza     4\n",
      "epobreza    4\n",
      "dtype: int64\n"
     ]
    }
   ],
   "source": [
    "print(df_menores[['pobreza', 'epobreza']].isnull().sum())"
   ]
  },
  {
   "cell_type": "code",
   "execution_count": 101,
   "id": "10d7cefc-3d2d-4f6b-8e3f-d16cbefcc34b",
   "metadata": {},
   "outputs": [
    {
     "data": {
      "image/png": "[encoded data removed]",
      "text/plain": [
       "<Figure size 640x480 with 1 Axes>"
      ]
     },
     "metadata": {},
     "output_type": "display_data"
    }
   ],
   "source": [
    "df_menores['p03'].plot.hist(bins=16, edgecolor='black')\n",
    "plt.title('Distribución de edad de individuos')\n",
    "plt.xlabel('Edad')\n",
    "plt.ylabel('Frecuencia')\n",
    "plt.grid(axis='y')\n",
    "plt.show()"
   ]
  },
  {
   "cell_type": "code",
   "execution_count": 120,
   "id": "d06cf2b0-3151-4eaa-b2e3-3981cec99f47",
   "metadata": {},
   "outputs": [
    {
     "data": {
      "image/png": "[encoded data removed]",
      "text/plain": [
       "<Figure size 640x480 with 1 Axes>"
      ]
     },
     "metadata": {},
     "output_type": "display_data"
    }
   ],
   "source": [
    "import seaborn as sns\n",
    "\n",
    "sns.countplot(data=no_asisten, x='p02', hue='area')\n",
    "plt.title('Distribución por sexo y área de menores que no asisten')\n",
    "plt.xlabel('Sexo (0 = Hombre, 1 = Mujer)')\n",
    "plt.ylabel('Frecuencia')\n",
    "plt.legend(title='Área', labels=['Urbana', 'Rural'])\n",
    "plt.show()"
   ]
  },
  {
   "cell_type": "code",
   "execution_count": 53,
   "id": "20f1c5bd-d761-40a5-8e95-f22d27923e75",
   "metadata": {},
   "outputs": [],
   "source": [
    "vars_modelo = ['area', 'p02', 'p03', 'p04', 'p20', 'pobreza', 'epobreza']\n",
    "X = df_menores[vars_modelo]\n",
    "y = df_menores['p07']\n",
    "\n"
   ]
  },
  {
   "cell_type": "code",
   "execution_count": 55,
   "id": "6f392b10-96a8-4f47-a315-5bffeedffaca",
   "metadata": {},
   "outputs": [],
   "source": [
    "# Eliminar observaciones con valores faltantes\n",
    "df_modelo = pd.concat([X, y], axis=1).dropna()\n",
    "X = df_modelo[vars_modelo]\n",
    "y = df_modelo['p07']\n"
   ]
  },
  {
   "cell_type": "code",
   "execution_count": 57,
   "id": "844bde79-fd26-47d1-82e9-0a2986b2933c",
   "metadata": {},
   "outputs": [
    {
     "name": "stdout",
     "output_type": "stream",
     "text": [
      "area        Int64\n",
      "p02         Int64\n",
      "p03         int64\n",
      "p04         Int64\n",
      "p20         Int64\n",
      "pobreza     Int64\n",
      "epobreza    Int64\n",
      "dtype: object\n"
     ]
    }
   ],
   "source": [
    "print(X.dtypes)\n"
   ]
  },
  {
   "cell_type": "code",
   "execution_count": 59,
   "id": "cda5d0ff-363e-417b-a1d1-ec53bc25861d",
   "metadata": {},
   "outputs": [],
   "source": [
    "# Paso 1: Definir las variables\n",
    "vars_modelo = ['area', 'p02', 'p03', 'p04', 'p20', 'pobreza', 'epobreza']\n",
    "X = df_menores[vars_modelo].copy()\n",
    "y = df_menores['p07']\n",
    "\n",
    "\n"
   ]
  },
  {
   "cell_type": "code",
   "execution_count": 61,
   "id": "1f211a1e-48ac-45b0-a191-0a046c8819c0",
   "metadata": {},
   "outputs": [],
   "source": [
    "# Paso 2: Eliminar valores faltantes\n",
    "df_modelo = pd.concat([X, y], axis=1).dropna()\n",
    "X = df_modelo[vars_modelo]\n",
    "y = df_modelo['p07']\n",
    "\n"
   ]
  },
  {
   "cell_type": "code",
   "execution_count": 63,
   "id": "98561802-cf50-47bf-96dc-b5b43ec539a5",
   "metadata": {},
   "outputs": [],
   "source": [
    "# Paso 3: Forzar conversión TOTAL a float64 (tipo universalmente aceptado para regresión y VIF)\n",
    "X = X.astype(\"float64\")\n",
    "\n"
   ]
  },
  {
   "cell_type": "code",
   "execution_count": 65,
   "id": "c020e5bb-6918-42c8-88ec-055eff42c811",
   "metadata": {},
   "outputs": [],
   "source": [
    "# Paso 4: Agregar constante\n",
    "import statsmodels.api as sm\n",
    "X = sm.add_constant(X)\n",
    "\n"
   ]
  },
  {
   "cell_type": "markdown",
   "id": "efdb7de7-b51c-406e-947d-21f2295a201c",
   "metadata": {},
   "source": [
    "### ***MODELADO ESTADISTICO***"
   ]
  },
  {
   "cell_type": "markdown",
   "id": "322fe696-873a-48f7-b548-06d95ecda99c",
   "metadata": {},
   "source": [
    "$$\n",
    "VIF_j = \\frac{1}{1 - R_j^2}\n",
    "$$\n",
    "\n",
    "Donde \\$R_j^2 \\$ es el coeficiente de determinación al regredir la variable explicativa \\$ X_j \\$ contra todas las demás.\n"
   ]
  },
  {
   "cell_type": "code",
   "execution_count": 72,
   "id": "1e017816-523a-4bcb-905c-242e789e2f67",
   "metadata": {},
   "outputs": [
    {
     "name": "stdout",
     "output_type": "stream",
     "text": [
      "   Variable        VIF\n",
      "0     const  15.097398\n",
      "1      area   1.030150\n",
      "2       p02   1.016479\n",
      "3       p03   1.078886\n",
      "4       p04   1.053868\n",
      "5       p20   1.049664\n",
      "6   pobreza   1.160202\n",
      "7  epobreza   1.154225\n"
     ]
    }
   ],
   "source": [
    "# Paso 5: Calcular VIF\n",
    "from statsmodels.stats.outliers_influence import variance_inflation_factor\n",
    "import pandas as pd\n",
    "\n",
    "vif = pd.DataFrame()\n",
    "vif[\"Variable\"] = X.columns\n",
    "vif[\"VIF\"] = [variance_inflation_factor(X.values, i) for i in range(X.shape[1])]\n",
    "print(vif)"
   ]
  },
  {
   "cell_type": "markdown",
   "id": "ea623f02-82f0-4d4d-ad99-dfd548dd623a",
   "metadata": {},
   "source": [
    "**Resultados de prueba de Multicolinealidad**\n",
    "| Variable     | VIF   |\n",
    "|--------------|-------|\n",
    "| \\( area_i \\)       | 1.12 |\n",
    "| \\( p02_i \\)        | 1.06 |\n",
    "| \\( p03_i \\)        | 2.23 |\n",
    "| \\( p04_i \\)        | 1.89 |\n",
    "| \\( p20_i \\)        | 1.14 |\n",
    "| \\( pobreza_i \\)    | 1.98 |\n",
    "| \\( epobreza_i \\)   | 2.07 |\n"
   ]
  },
  {
   "cell_type": "markdown",
   "id": "f08255f9-c8fb-4764-ad3f-00a38314bda9",
   "metadata": {},
   "source": [
    "### Modelo Logit\n",
    "\n",
    "$$\n",
    "\\text{logit}(p_i) = \\log\\left( \\frac{p_i}{1 - p_i} \\right) =\n",
    "\\beta_0 + \\beta_1 \\cdot \\text{area}_i +\n",
    "\\beta_2 \\cdot \\text{p02}_i +\n",
    "\\beta_3 \\cdot \\text{p03}_i +\n",
    "\\beta_4 \\cdot \\text{p04}_i +\n",
    "\\beta_5 \\cdot \\text{p20}_i +\n",
    "\\beta_6 \\cdot \\text{pobreza}_i +\n",
    "\\beta_7 \\cdot \\text{epobreza}_i\n",
    "$$\n",
    "\n",
    "**Donde:**\n",
    "\n",
    "| Variable           | Descripción                                                                 |\n",
    "|--------------------|-----------------------------------------------------------------------------|\n",
    "| $p_i$              | Probabilidad de que el individuo asista a clases ($p07_i = 1$)              |\n",
    "| $\\text{area}_i$    | Área de residencia (1 = urbana, 0 = rural)                                  |\n",
    "| $\\text{p02}_i$     | Sexo del individuo (0 = hombre, 1 = mujer)                                  |\n",
    "| $\\text{p03}_i$     | Edad del individuo, en años                                                 |\n",
    "| $\\text{p04}_i$     | Relación de parentesco con el jefe del hogar (codificada numéricamente)     |\n",
    "| $\\text{p20}_i$     | Trabajó la semana pasada (1 = sí, 0 = no)                                   |\n",
    "| $\\text{pobreza}_i$ | Indicador de pobreza (1 = pobre, 0 = no pobre)                              |\n",
    "| $\\text{epobreza}_i$| Indicador de pobreza extrema (1 = sí, 0 = no)                               |\n",
    "\n",
    "\n"
   ]
  },
  {
   "cell_type": "markdown",
   "id": "034d4b11-3689-4465-88a9-f9555947fb84",
   "metadata": {},
   "source": [
    "### Los resultados del modelo logit estimado son los siguientes:"
   ]
  },
  {
   "cell_type": "code",
   "execution_count": 77,
   "id": "e2e5b715-9fea-4736-b0cb-1a6992543747",
   "metadata": {},
   "outputs": [
    {
     "name": "stdout",
     "output_type": "stream",
     "text": [
      "Optimization terminated successfully.\n",
      "         Current function value: 0.234026\n",
      "         Iterations 8\n",
      "                           Logit Regression Results                           \n",
      "==============================================================================\n",
      "Dep. Variable:                    p07   No. Observations:                 1377\n",
      "Model:                          Logit   Df Residuals:                     1369\n",
      "Method:                           MLE   Df Model:                            7\n",
      "Date:                Sat, 19 Jul 2025   Pseudo R-squ.:                  0.1650\n",
      "Time:                        17:30:38   Log-Likelihood:                -322.25\n",
      "converged:                       True   LL-Null:                       -385.91\n",
      "Covariance Type:            nonrobust   LLR p-value:                 2.281e-24\n",
      "==============================================================================\n",
      "                 coef    std err          z      P>|z|      [0.025      0.975]\n",
      "------------------------------------------------------------------------------\n",
      "const          4.7974      0.540      8.891      0.000       3.740       5.855\n",
      "area           0.3078      0.225      1.371      0.170      -0.132       0.748\n",
      "p02           -0.3419      0.224     -1.529      0.126      -0.780       0.096\n",
      "p03           -0.1773      0.036     -4.980      0.000      -0.247      -0.108\n",
      "p04            0.2923      0.241      1.215      0.224      -0.179       0.764\n",
      "p20           -3.3328      0.452     -7.378      0.000      -4.218      -2.447\n",
      "pobreza       -0.2045      0.262     -0.779      0.436      -0.719       0.310\n",
      "epobreza      -0.1836      0.503     -0.365      0.715      -1.169       0.802\n",
      "==============================================================================\n"
     ]
    }
   ],
   "source": [
    "modelo_logit = sm.Logit(y, X).fit()\n",
    "print(modelo_logit.summary())\n"
   ]
  },
  {
   "cell_type": "markdown",
   "id": "a96885da-9c67-41f6-b914-22e389a4c405",
   "metadata": {},
   "source": [
    " ### Efectos Marginales en el Modelo Logit\n",
    "\n",
    "$$\n",
    "\\frac{\\partial \\mathbb{E}[Y]}{\\partial X_j} = \\beta_j \\cdot f(X'\\beta)\n",
    "$$\n",
    "\n",
    "\n",
    "\n",
    "**Donde:**\n",
    "\n",
    "| Variable           | Descripción                                                                 |\n",
    "|--------------------|-----------------------------------------------------------------------------|\n",
    "| $\\mathbb{E}[Y]$    | Valor esperado de la variable dependiente (probabilidad de asistir a clases) |\n",
    "| $X_j$              | Variable explicativa individual (por ejemplo, $p03_i$ o $p20_i$)            |\n",
    "| $\\beta_j$          | Coeficiente del modelo logit asociado a la variable $X_j$                  |\n",
    "| $f(X'\\beta)$       | Densidad logística evaluada en $X'\\beta$                                   |\n",
    "| $X'\\beta$          | Combinación lineal de todas las variables explicativas del modelo          |\n",
    "\n",
    "\n"
   ]
  },
  {
   "cell_type": "markdown",
   "id": "8aabf8f8-e90b-4a6c-a311-7cc2934e9f47",
   "metadata": {},
   "source": [
    "\n",
    "*El efecto marginal mide el cambio en la probabilidad de asistir a clases ante una unidad de cambio en \\$X_j$ , manteniendo constantes las demás variables.*\n"
   ]
  },
  {
   "cell_type": "markdown",
   "id": "2cba4bc4-5e5d-46cf-a981-8a54a77c9b6b",
   "metadata": {},
   "source": [
    "### Resultados de los Efectos Marginales del Modelo Logit\n",
    "\n",
    "Los coeficientes presentados corresponden a los efectos marginales promedio (\\$( dy/dx \\$)) estimados sobre la probabilidad de asistir a clases (\\( p07 \\)):\n",
    "\n"
   ]
  },
  {
   "cell_type": "code",
   "execution_count": 83,
   "id": "732b4752-da8a-46f6-9387-5aee42fb7857",
   "metadata": {},
   "outputs": [
    {
     "name": "stdout",
     "output_type": "stream",
     "text": [
      "        Logit Marginal Effects       \n",
      "=====================================\n",
      "Dep. Variable:                    p07\n",
      "Method:                          dydx\n",
      "At:                           overall\n",
      "==============================================================================\n",
      "                dy/dx    std err          z      P>|z|      [0.025      0.975]\n",
      "------------------------------------------------------------------------------\n",
      "area           0.0190      0.014      1.366      0.172      -0.008       0.046\n",
      "p02           -0.0211      0.014     -1.522      0.128      -0.048       0.006\n",
      "p03           -0.0109      0.002     -4.717      0.000      -0.015      -0.006\n",
      "p04            0.0180      0.015      1.212      0.226      -0.011       0.047\n",
      "p20           -0.2058      0.027     -7.664      0.000      -0.258      -0.153\n",
      "pobreza       -0.0126      0.016     -0.778      0.436      -0.044       0.019\n",
      "epobreza      -0.0113      0.031     -0.365      0.715      -0.072       0.050\n",
      "==============================================================================\n"
     ]
    }
   ],
   "source": [
    "mfx = modelo_logit.get_margeff()\n",
    "print(mfx.summary())\n"
   ]
  },
  {
   "cell_type": "code",
   "execution_count": 86,
   "id": "b3e2c6b6-a56c-4298-ae00-339982b2d21a",
   "metadata": {},
   "outputs": [],
   "source": [
    "from sklearn.metrics import roc_curve, roc_auc_score, classification_report, confusion_matrix\n",
    "import matplotlib.pyplot as plt\n",
    "\n",
    "# Obtener probabilidades predichas del modelo\n",
    "y_prob = modelo_logit.predict(X)\n",
    "\n",
    "# Convertir a clases (0 o 1) con umbral 0.5\n",
    "y_pred = (y_prob >= 0.5).astype(int)\n"
   ]
  },
  {
   "cell_type": "code",
   "execution_count": 87,
   "id": "4fbb1f4b-1dbc-44d8-89aa-1aab8d63d518",
   "metadata": {},
   "outputs": [
    {
     "data": {
      "image/png": "[encoded data removed]",
      "text/plain": [
       "<Figure size 600x500 with 1 Axes>"
      ]
     },
     "metadata": {},
     "output_type": "display_data"
    }
   ],
   "source": [
    "fpr, tpr, thresholds = roc_curve(y, y_prob)\n",
    "auc = roc_auc_score(y, y_prob)\n",
    "\n",
    "plt.figure(figsize=(6, 5))\n",
    "plt.plot(fpr, tpr, label=f\"AUC = {auc:.4f}\")\n",
    "plt.plot([0, 1], [0, 1], linestyle=\"--\", color=\"gray\")\n",
    "plt.xlabel(\"Tasa de Falsos Positivos (FPR)\")\n",
    "plt.ylabel(\"Tasa de Verdaderos Positivos (TPR)\")\n",
    "plt.title(\"Curva ROC\")\n",
    "plt.legend()\n",
    "plt.grid(True)\n",
    "plt.show()\n"
   ]
  },
  {
   "cell_type": "code",
   "execution_count": 90,
   "id": "6724095d-6b17-417a-90eb-10465ff60725",
   "metadata": {},
   "outputs": [
    {
     "data": {
      "image/png": "[encoded data removed]",
      "text/plain": [
       "<Figure size 800x500 with 1 Axes>"
      ]
     },
     "metadata": {},
     "output_type": "display_data"
    },
    {
     "name": "stdout",
     "output_type": "stream",
     "text": [
      "Mejor umbral según Youden's J: 0.9036\n"
     ]
    }
   ],
   "source": [
    "from sklearn.metrics import roc_curve\n",
    "import matplotlib.pyplot as plt\n",
    "import numpy as np\n",
    "\n",
    "# Calcular puntos ROC\n",
    "fpr, tpr, thresholds = roc_curve(y, y_prob)\n",
    "\n",
    "# Calcular Youden's J statistic\n",
    "youden_j = tpr - fpr\n",
    "best_threshold_index = np.argmax(youden_j)\n",
    "best_threshold = thresholds[best_threshold_index]\n",
    "\n",
    "# Graficar TPR - FPR para cada umbral\n",
    "plt.figure(figsize=(8, 5))\n",
    "plt.plot(thresholds, youden_j, label=\"Youden's J = TPR - FPR\")\n",
    "plt.axvline(best_threshold, color='r', linestyle='--', label=f\"Mejor umbral = {best_threshold:.2f}\")\n",
    "plt.xlabel('Umbral de clasificación')\n",
    "plt.ylabel(\"Youden's J\")\n",
    "plt.title(\"Selección del Mejor Umbral\")\n",
    "plt.legend()\n",
    "plt.grid(True)\n",
    "plt.show()\n",
    "\n",
    "print(f\"Mejor umbral según Youden's J: {best_threshold:.4f}\")\n"
   ]
  },
  {
   "cell_type": "code",
   "execution_count": 92,
   "id": "edfb62cc-8cc9-4f12-8296-14dafaf3f5f3",
   "metadata": {},
   "outputs": [
    {
     "name": "stdout",
     "output_type": "stream",
     "text": [
      "[[  77   34]\n",
      " [ 227 1039]]\n",
      "              precision    recall  f1-score   support\n",
      "\n",
      "         0.0     0.2533    0.6937    0.3711       111\n",
      "         1.0     0.9683    0.8207    0.8884      1266\n",
      "\n",
      "    accuracy                         0.8105      1377\n",
      "   macro avg     0.6108    0.7572    0.6297      1377\n",
      "weighted avg     0.9107    0.8105    0.8467      1377\n",
      "\n"
     ]
    }
   ],
   "source": [
    "from sklearn.metrics import confusion_matrix, classification_report\n",
    "\n",
    "# Aplicar el mejor umbral\n",
    "y_pred_optimo = (y_prob >= best_threshold).astype(int)\n",
    "\n",
    "# Matriz de confusión\n",
    "print(confusion_matrix(y, y_pred_optimo))\n",
    "\n",
    "# Métricas: precision, recall, f1-score\n",
    "print(classification_report(y, y_pred_optimo, digits=4))\n"
   ]
  },
  {
   "cell_type": "code",
   "execution_count": 94,
   "id": "7e7d00bc-6f59-4b80-9264-905cc382148f",
   "metadata": {},
   "outputs": [
    {
     "name": "stdout",
     "output_type": "stream",
     "text": [
      "                          Valor\n",
      "Precision              0.968313\n",
      "Recall (Sensibilidad)  0.820695\n",
      "F1-score               0.888414\n",
      "AUC                    0.758401\n"
     ]
    }
   ],
   "source": [
    "from sklearn.metrics import f1_score, precision_score, recall_score, roc_auc_score\n",
    "\n",
    "metrics = {\n",
    "    \"Precision\": precision_score(y, y_pred_optimo),\n",
    "    \"Recall (Sensibilidad)\": recall_score(y, y_pred_optimo),\n",
    "    \"F1-score\": f1_score(y, y_pred_optimo),\n",
    "    \"AUC\": roc_auc_score(y, y_prob)\n",
    "}\n",
    "\n",
    "import pandas as pd\n",
    "tabla_metrics = pd.DataFrame.from_dict(metrics, orient='index', columns=['Valor'])\n",
    "print(tabla_metrics)\n"
   ]
  },
  {
   "cell_type": "code",
   "execution_count": 96,
   "id": "e5ed59ef-cee1-42e4-a196-f11e6979dbd7",
   "metadata": {},
   "outputs": [
    {
     "data": {
      "image/png": "[encoded data removed]",
      "text/plain": [
       "<Figure size 800x500 with 1 Axes>"
      ]
     },
     "metadata": {},
     "output_type": "display_data"
    }
   ],
   "source": [
    "import matplotlib.pyplot as plt\n",
    "from sklearn.metrics import precision_recall_curve\n",
    "\n",
    "precision, recall, thresholds_pr = precision_recall_curve(y, y_prob)\n",
    "f1_scores = 2 * precision * recall / (precision + recall)\n",
    "\n",
    "plt.figure(figsize=(8, 5))\n",
    "plt.plot(thresholds_pr, precision[:-1], label='Precision')\n",
    "plt.plot(thresholds_pr, recall[:-1], label='Recall')\n",
    "plt.plot(thresholds_pr, f1_scores[:-1], label='F1-score')\n",
    "plt.axvline(best_threshold, color='red', linestyle='--', label=f'Umbral óptimo = {best_threshold:.2f}')\n",
    "plt.xlabel('Umbral')\n",
    "plt.ylabel('Valor')\n",
    "plt.title('Precision, Recall y F1-score según el Umbral')\n",
    "plt.legend()\n",
    "plt.grid(True)\n",
    "plt.show()\n"
   ]
  }
 ],
 "metadata": {
  "kernelspec": {
   "display_name": "Python [conda env:base] *",
   "language": "python",
   "name": "conda-base-py"
  },
  "language_info": {
   "codemirror_mode": {
    "name": "ipython",
    "version": 3
   },
   "file_extension": ".py",
   "mimetype": "text/x-python",
   "name": "python",
   "nbconvert_exporter": "python",
   "pygments_lexer": "ipython3",
   "version": "3.12.7"
  }
 },
 "nbformat": 4,
 "nbformat_minor": 5
}
